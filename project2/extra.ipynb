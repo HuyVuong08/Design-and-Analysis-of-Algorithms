{
 "cells": [
  {
   "cell_type": "code",
   "execution_count": null,
   "metadata": {},
   "outputs": [],
   "source": [
    "import time\n",
    "import sys\n",
    "\n",
    "# Increase the recursion limit\n",
    "sys.setrecursionlimit(1 * 10 ** 12)"
   ]
  },
  {
   "cell_type": "code",
   "execution_count": 18,
   "metadata": {},
   "outputs": [],
   "source": [
    "class Fibonacci:\n",
    "    def recursive(self, n: int) -> int:\n",
    "        if n <= 1:\n",
    "            return n\n",
    "        return self.recursive(n-1) + self.recursive(n-2)\n",
    "\n",
    "    def memoizedTopDown(self, n: int, M = {}) -> int:\n",
    "        if n in M:\n",
    "            return M[n]\n",
    "        if n <= 1:\n",
    "            M[n] = n\n",
    "            return n\n",
    "        M[n] = self.memoizedTopDown(n-1, M) + self.memoizedTopDown(n-2, M)\n",
    "        return M[n]\n",
    "\n",
    "    def bottomUp(self, n: int) -> int:\n",
    "        if n <= 1:\n",
    "            return n\n",
    "        M = [0] * (n+1)\n",
    "        M[1] = 1\n",
    "        for i in range(2, n+1):\n",
    "            M[i] = M[i-1] + M[i-2]\n",
    "        return M[n]\n",
    "\n",
    "fibonacci = Fibonacci()"
   ]
  },
  {
   "cell_type": "code",
   "execution_count": 19,
   "metadata": {},
   "outputs": [
    {
     "name": "stdout",
     "output_type": "stream",
     "text": [
      "No.         Algorithm               Type         Input             Elapsed time\n",
      " 1.         Fibonacci             Recursive      5th fibonacci         0.003 ms\n"
     ]
    }
   ],
   "source": [
    "algo_set = {\n",
    "    'f': {\n",
    "        'label': 'Fibonacci',\n",
    "        'types': {\n",
    "            'r': {'label': 'Recursive', 'function': fibonacci.recursive},\n",
    "        }\n",
    "    },\n",
    "}\n",
    "\n",
    "test_set, results, test_cases = ['f'], [], {'f': [5]}\n",
    "\n",
    "print('{:>2}.  {:^23}  {:^17}  {:<15} {:>14}'.format(\"No\", \"Algorithm\", \"Type\", \"Input\", \"Elapsed time\"))\n",
    "for algo in test_set:\n",
    "    for input in test_cases[algo]:\n",
    "        for algo_type in algo_set[algo]['types'].values():\n",
    "            start_time = time.time()\n",
    "            algo_type['function'](input)\n",
    "            duration = time.time() - start_time\n",
    "            input_str = str(len(input)-1)+' matricies' if algo == 'm' else str(input)+'th fibonacci' if algo == 'f' else input\n",
    "            line_new = '{:>2}.  {:^23}  {:^17}  {:<15} {:>14}'.format(len(results)+1, algo_set[algo]['label'], algo_type['label'], input_str, f'{duration*1000:,.3f} ms')\n",
    "            print(line_new)\n",
    "            results.append([algo_set[algo]['label'], algo_type['label'], input_str, duration * 1000])"
   ]
  },
  {
   "cell_type": "code",
   "execution_count": 22,
   "metadata": {},
   "outputs": [
    {
     "name": "stdout",
     "output_type": "stream",
     "text": [
      "No.         Algorithm               Type         Input                                           Elapsed time\n"
     ]
    },
    {
     "ename": "",
     "evalue": "",
     "output_type": "error",
     "traceback": [
      "\u001b[1;31mThe Kernel crashed while executing code in the current cell or a previous cell. \n",
      "\u001b[1;31mPlease review the code in the cell(s) to identify a possible cause of the failure. \n",
      "\u001b[1;31mClick <a href='https://aka.ms/vscodeJupyterKernelCrash'>here</a> for more info. \n",
      "\u001b[1;31mView Jupyter <a href='command:jupyter.viewOutput'>log</a> for further details."
     ]
    }
   ],
   "source": [
    "algo_set = {\n",
    "    'f': {\n",
    "        'label': 'Fibonacci',\n",
    "        'types': {\n",
    "            'b': {'label': 'Bottom Up', 'function': fibonacci.bottomUp},\n",
    "        }\n",
    "    },\n",
    "}\n",
    "\n",
    "test_set, results, test_cases = ['f'], [], {'f': [1 * 10 ** 6]}\n",
    "\n",
    "print('{:>2}.  {:^23}  {:^17}  {:<45} {:>14}'.format(\"No\", \"Algorithm\", \"Type\", \"Input\", \"Elapsed time\"))\n",
    "for algo in test_set:\n",
    "    for input in test_cases[algo]:\n",
    "        for algo_type in algo_set[algo]['types'].values():\n",
    "            start_time = time.time()\n",
    "            algo_type['function'](input)\n",
    "            duration = time.time() - start_time\n",
    "            input_str = f'{input:,}'+' th fibonacci'\n",
    "            line_new = '{:>2}.  {:^23}  {:^17}  {:<45} {:>14}'.format(len(results)+1, algo_set[algo]['label'], algo_type['label'], input_str, f'{duration:,.3f}')\n",
    "            print(line_new)\n",
    "            results.append([algo_set[algo]['label'], algo_type['label'], input_str, duration * 1000])"
   ]
  }
 ],
 "metadata": {
  "kernelspec": {
   "display_name": "Python 3",
   "language": "python",
   "name": "python3"
  },
  "language_info": {
   "codemirror_mode": {
    "name": "ipython",
    "version": 3
   },
   "file_extension": ".py",
   "mimetype": "text/x-python",
   "name": "python",
   "nbconvert_exporter": "python",
   "pygments_lexer": "ipython3",
   "version": "3.9.6"
  }
 },
 "nbformat": 4,
 "nbformat_minor": 2
}
